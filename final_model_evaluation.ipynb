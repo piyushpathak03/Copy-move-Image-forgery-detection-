{
 "cells": [
  {
   "cell_type": "code",
   "execution_count": 7,
   "metadata": {},
   "outputs": [],
   "source": [
    "import pickle\n",
    "import numpy\n",
    "import os\n",
    "import numpy as np\n",
    "import keras"
   ]
  },
  {
   "cell_type": "code",
   "execution_count": 9,
   "metadata": {},
   "outputs": [],
   "source": [
    "from keras.models import load_model, Sequential\n",
    "from keras.layers import Dense, Flatten"
   ]
  },
  {
   "cell_type": "code",
   "execution_count": 24,
   "metadata": {},
   "outputs": [],
   "source": [
    "x_train=np.load('train_data/x_train.npy')\n",
    "x_cv=np.load('train_data/x_cv.npy')\n",
    "\n",
    "y_train=np.load('train_data/y_train.npy')\n",
    "y_cv=np.load('train_data/y_cv.npy')"
   ]
  },
  {
   "cell_type": "code",
   "execution_count": 15,
   "metadata": {},
   "outputs": [],
   "source": [
    "vgg_model=keras.applications.VGG16(weights='imagenet', include_top=False, input_shape=(64,64,3))\n",
    "\n",
    "model_aug=Sequential()\n",
    "model_aug.add(vgg_model)\n",
    "\n",
    "top_model=Sequential()\n",
    "top_model.add(Flatten(input_shape=(2, 2, 512)))\n",
    "#model_aug.add(Dropout(0.3))\n",
    "top_model.add(Dense(64, activation='relu'))\n",
    "\n",
    "top_model.add(Dense(1, activation='sigmoid'))\n",
    "\n",
    "model_aug.add(top_model)\n",
    "\n",
    "for layer in model_aug.layers[0].layers[:17]:\n",
    "    layer.trainable=False\n",
    "        \n",
    "model_aug.load_weights('fine_tuned_model_adam_weights.h5')"
   ]
  },
  {
   "cell_type": "code",
   "execution_count": 16,
   "metadata": {},
   "outputs": [
    {
     "name": "stdout",
     "output_type": "stream",
     "text": [
      "_________________________________________________________________\n",
      "Layer (type)                 Output Shape              Param #   \n",
      "=================================================================\n",
      "vgg16 (Model)                (None, 2, 2, 512)         14714688  \n",
      "_________________________________________________________________\n",
      "sequential_12 (Sequential)   (None, 1)                 131201    \n",
      "=================================================================\n",
      "Total params: 14,845,889\n",
      "Trainable params: 2,491,009\n",
      "Non-trainable params: 12,354,880\n",
      "_________________________________________________________________\n"
     ]
    }
   ],
   "source": [
    "model_aug.summary()"
   ]
  },
  {
   "cell_type": "code",
   "execution_count": 22,
   "metadata": {},
   "outputs": [],
   "source": [
    "model_aug.compile(loss='binary_crossentropy', optimizer=keras.optimizers.Adam(lr=1e-6), metrics=['accuracy'])"
   ]
  },
  {
   "cell_type": "code",
   "execution_count": 23,
   "metadata": {},
   "outputs": [
    {
     "name": "stdout",
     "output_type": "stream",
     "text": [
      "105219/105219 [==============================] - 66s 623us/step\n"
     ]
    },
    {
     "data": {
      "text/plain": [
       "[0.3000976229637299, 0.947747079900018]"
      ]
     },
     "execution_count": 23,
     "metadata": {},
     "output_type": "execute_result"
    }
   ],
   "source": [
    "model_aug.evaluate(x_cv, y_cv)"
   ]
  },
  {
   "cell_type": "code",
   "execution_count": 25,
   "metadata": {},
   "outputs": [
    {
     "name": "stdout",
     "output_type": "stream",
     "text": [
      "245509/245509 [==============================] - 149s 606us/step\n"
     ]
    },
    {
     "data": {
      "text/plain": [
       "[0.017926273005423123, 0.9915685372023022]"
      ]
     },
     "execution_count": 25,
     "metadata": {},
     "output_type": "execute_result"
    }
   ],
   "source": [
    "model_aug.evaluate(x_train, y_train)"
   ]
  }
 ],
 "metadata": {
  "kernelspec": {
   "display_name": "Python 3",
   "language": "python",
   "name": "python3"
  },
  "language_info": {
   "codemirror_mode": {
    "name": "ipython",
    "version": 3
   },
   "file_extension": ".py",
   "mimetype": "text/x-python",
   "name": "python",
   "nbconvert_exporter": "python",
   "pygments_lexer": "ipython3",
   "version": "3.6.7"
  }
 },
 "nbformat": 4,
 "nbformat_minor": 2
}
