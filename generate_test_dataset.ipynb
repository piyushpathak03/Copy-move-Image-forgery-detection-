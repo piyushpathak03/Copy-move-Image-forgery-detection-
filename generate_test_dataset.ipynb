{
 "cells": [
  {
   "cell_type": "code",
   "execution_count": 1,
   "metadata": {},
   "outputs": [],
   "source": [
    "import os\n",
    "import matplotlib.pyplot as plt\n",
    "import numpy as np\n",
    "from scipy.misc import imresize\n",
    "from imageio import imread\n",
    "import shutil\n",
    "import pandas as pd\n",
    "import pickle\n",
    "from tqdm import tqdm_notebook, tqdm\n",
    "from sklearn.model_selection import train_test_split\n",
    "import seaborn as sns\n",
    "from pylab import rcParams\n",
    "# rcParams['figure.figsize']=10,10\n",
    "import sys\n",
    "from sklearn.metrics import log_loss, accuracy_score, confusion_matrix\n",
    "import cv2\n",
    "%matplotlib inline"
   ]
  },
  {
   "cell_type": "code",
   "execution_count": 10,
   "metadata": {},
   "outputs": [],
   "source": [
    "with open('data/x_test.pickle', 'rb') as f:\n",
    "    x_test=np.array(pickle.load(f))\n",
    "with open('data/y_test.pickle', 'rb') as f:\n",
    "    y_test=np.array(pickle.load(f))"
   ]
  },
  {
   "cell_type": "code",
   "execution_count": 11,
   "metadata": {},
   "outputs": [
    {
     "data": {
      "text/plain": [
       "array(['6e81892db1569782724a0234e610868a.png',\n",
       "       '0bcfc5a4d920dcced672ad82fa136875.png',\n",
       "       'c26d812059636151e2d7264fa0a9fdbc.png',\n",
       "       '0c6bdc9e7cc22fdd4266e39e58fd87be.png',\n",
       "       '5aced0ab3e06a9428cf54767cd5b8df6.png',\n",
       "       '3fc5e991d9d67ade69e95d8422b8b694.png',\n",
       "       '4a46f53037b474194327f458ac83d5ad.png',\n",
       "       '1bd0022f266d1a671a126e565318e12a.png',\n",
       "       '5f2c3de190f1e231fbb68d64eae7badc.png',\n",
       "       'b4d425eedb47b3d886ca70d56db4120d.png',\n",
       "       '0bd52690187d601455f5b83670fe019f.png',\n",
       "       '0e672b307e510b033d601b4901ca9a4c.png',\n",
       "       '0ce3e0b2cb776b958bb763f0ba8c46f9.png',\n",
       "       '3ee46c9946fd48e2cdf159e0dd42dd38.png',\n",
       "       'd8edc14c38478d80b27a0bc6d41dc4ae.png',\n",
       "       'b318ed71fdddcabf17e15c6ca3af13af.png',\n",
       "       '4a28995506ac48854eb426a5e06c12d0.png',\n",
       "       '6d33f983240a4a474d51cd32d05e918d.png',\n",
       "       '2fbab30ef74dd450672d2a9d3142b459.png',\n",
       "       '4fbf3c5ad32f5e222ed1953316ce0d51.png',\n",
       "       'a3978283d13463af3d6d98c6ae6d6be7.png',\n",
       "       'afe58b89ed86f93d38c8dd156a8a8491.png',\n",
       "       '4bc96e868d4eb0477881c14c65c112a4.png',\n",
       "       '4a694369bbb2e7271c7783d79f77e862.png',\n",
       "       '689303d2322edb19c223bc2fbe409e08.png',\n",
       "       '0c420e5d4ad357c01f6f16d9d4c9a5c5.png',\n",
       "       '6cd39a1288e2650d1c8ebafde7d9d103.png',\n",
       "       '1fc25a4373e329f72e8770b9446ec0a0.png',\n",
       "       'b957bf062b8006317f24bdba5dd0abfe.png',\n",
       "       'b35d925d02a6792e66e475860372aaae.png',\n",
       "       '1f51bb9d9f79557fcedfef1d3bc931bc.png',\n",
       "       '0c43945b3bd42eb2f0e68a7f7ed43db0.png',\n",
       "       'e3f297c613666f68896094cb58838ae6.png',\n",
       "       '0bad6f172bb05aa05f2ad785c0f7cb9f.png',\n",
       "       '7a303fa7d3ed5b2f4bbe3f0772fd2247.png',\n",
       "       '002e23c036a05de656242f5ce6ab2e15.png',\n",
       "       '4c15ec243178e6fea3390f17b1c0070c.png',\n",
       "       '5ef21f399c27230a5e4dfd9153d0fbe8.png',\n",
       "       '5ce799ff14670b83ad1a9e7ebb99ce6e.png',\n",
       "       '1d91a3f7e1d9799eeadc4fb572f5c344.png',\n",
       "       'b815a74cfdca7f5da57fc1b0687f89cd.png',\n",
       "       'bac7fb0f429c30179ca36411f11713ed.png',\n",
       "       'c6d6089b4ea367333ca025d8cd1c8d33.png',\n",
       "       '0eb173b4c0c9b6e8db3de6bcfafbc421.png',\n",
       "       '55774d613ff0e35e640172a35fdd6c96.png',\n",
       "       '6a5a499626b3e261fa2cb6cf15dcf59d.png',\n",
       "       '6fb1f8729a7064e55ba916655c2b347d.png',\n",
       "       '6d31084bb48b6fc5fbd6ff316459cd5b.png',\n",
       "       '7a61a6a3eda2192b5f03a5b54cb54654.png',\n",
       "       '6d969d0fe88819a9d0efd692454c5f7f.png',\n",
       "       'ccedb1eb235f5dedddc443b93e9aaabd.png',\n",
       "       'cc1234027ede8d9006ce01f0cd12b710.png',\n",
       "       'e81d4326a9aba0df4346edaf4e64c0d0.png',\n",
       "       '6b31c9e353b7135cf983f7f7cfe354ca.png',\n",
       "       'ce5cd74980494117a495a305ed5fe95b.png',\n",
       "       '729184490532feff1bea99534924c91d.png',\n",
       "       'c658e082c4a76075a2f91c731b1f79a0.png',\n",
       "       'b9149cc8a64a111bbc1b30cb1bdc37d4.png',\n",
       "       '2cfa2dc4c58aa3766f022100135a313a.png',\n",
       "       '6fcdaa82f912a1b56b3f24501a30aecc.png',\n",
       "       '1eb6e347587776b69c5a86cd5985e5c7.png',\n",
       "       'c78759a7396dd709da30a25683b6219c.png',\n",
       "       '6a8a86869eae63af596fd14e50f2b3c6.png',\n",
       "       'ae5cbfd5a2566eb2ba2e27979c53ef9c.png',\n",
       "       '6bf3f0d65bcb5bbc6f569147662966a4.png',\n",
       "       '5d150087e7982172941a6f0fbc12e3f1.png',\n",
       "       'cfb77b3822d05b280d51e8259f0c2ff4.png',\n",
       "       '14548214e97adf237ee3bac90809baf6.png',\n",
       "       '1ec8a66fae209ac812a39e11b033574b.png',\n",
       "       '0001d52e2fd94f30c2bca0449763a752.png',\n",
       "       '3a38f1fd519ebe4949980a4f4ab340a5.png',\n",
       "       '2d207c1b2bf4c522c5a19150ceab2829.png',\n",
       "       '0f215e9b7f0fbe5c6008d2f094d76df5.png',\n",
       "       '4dc002078cbb9dc4ee09935f6c0ac8c4.png',\n",
       "       '3e4860b730c20994297e663d93e2fb0f.png',\n",
       "       '5fb090a35bfa08776c41e854d6d274ca.png',\n",
       "       'af8332f8c5b8cedeeb33963bb532e2f8.png',\n",
       "       'b12fb5198adce69091a77caac294016c.png',\n",
       "       '1b9b2acb177b1c54a37e297aa89dac7a.png',\n",
       "       '4a7ab4c11dc562171cc0424372223830.png',\n",
       "       'b5413c246d39c53af7e53b1d56f64946.png',\n",
       "       '6a68286e27dacf32aeaf277854f493a6.png',\n",
       "       '1b3d595d91ba77637ac6ea6339af9af6.png',\n",
       "       '6e06c8209db6044dcd43d507896ceda5.png',\n",
       "       '03cf7a8ef349c3b618f95a85093568db.png',\n",
       "       '1b095a33602a6a21cee13c6d8c1415bc.png',\n",
       "       '0f745cf2b785e7a64620f09cf2590092.png',\n",
       "       'c0a07e462960bd1eb37b5b0c1753c0fa.png',\n",
       "       '3d59e2121cd4a713883a1b06cb7b11ab.png',\n",
       "       'b1a7bc9873d1ac1a9bf66426002b3722.png',\n",
       "       '6fa364a78c495fcf632f9539017ab50d.png',\n",
       "       '6bfdb3ff45f7307d29ea2ad92c4fbea9.png',\n",
       "       '2f88b06c9008b647bf4462240ad719bc.png',\n",
       "       '1c853fc69f2b4c662af17fd02be45828.png',\n",
       "       '1b2d8da303239dd9e189d58840825be5.png',\n",
       "       '0f1fe6db70e9da10f9653516e37e780a.png',\n",
       "       'e8540972740aa21638731940c3bebe42.png',\n",
       "       '1f20849903aa5109dc0eec33a2871840.png',\n",
       "       '5e66ff6f6051267582e73ff4190c0a79.png',\n",
       "       '06eefed61325a0c81ea9fed64f07d289.png',\n",
       "       '2377136d0e2ec5c8aa15293c78ffa3d7.png',\n",
       "       'd257675d358d70474a86b4e11dba33a9.png',\n",
       "       '3cfab460cd775b2fc3261f9f9d387c9e.png',\n",
       "       'd958cd2313d0c5eb6d55c9d96c25c8b8.png',\n",
       "       '6a486ced414771ef1f43b76f25ecb472.png',\n",
       "       'c2ccae30ccc8189fe03319b604cdde8b.png',\n",
       "       'b0060704d02f1229b75cbd550c7267b4.png',\n",
       "       '1d8f78e9c5b324fe80fad00cde8dd8d9.png',\n",
       "       '4f208c2befbfc8431aeb7f9e93d2bf64.png',\n",
       "       'ae6ec565eab53a8bdc5749cff5914726.png',\n",
       "       '5c5cca73226200f62643ccfa53282d90.png',\n",
       "       '2ba762dd3dad9a4704c46c8cf9a0ef13.png',\n",
       "       'b78a5e18d75253830e1c0cf7f73be279.png',\n",
       "       '2170480823e668068b78bce75afe07a1.png',\n",
       "       '6a486eca64c70c43eb1c9985458ffa97.png',\n",
       "       '3aad6b1da20e2215bbc44db86928791e.png',\n",
       "       '6afa3c94f2e59d887d5a0df6359dee11.png',\n",
       "       'd22f7eb37563c080925a4cacbed16c7f.png',\n",
       "       'ca76eefff717b507a0eba5353324d9e5.png',\n",
       "       '5c053d4e9065093c17dc5ca9154b6577.png',\n",
       "       '4f15fcfaea4ca11088275f4377704d6a.png',\n",
       "       '00e3659be9c1fec47c739f79252840e3.png',\n",
       "       '4e8df12016701a5eb8fabdb728877c26.png',\n",
       "       '4a1aa0cab7646c49d647bd8e4d975190.png',\n",
       "       '00fbcae4d05aeab62ab917e587b911f9.png',\n",
       "       '022354380a1a17ff49226c9eae21a11f.png',\n",
       "       '5c3fef9b45dc171c7c082e12b7f6eb5c.png',\n",
       "       'ac1a667900157fae86ec5fdabe5eb4b0.png',\n",
       "       '2cbfe7b264f0671635ff4557cb346725.png',\n",
       "       '6be828b2819012072acadc613f81e927.png',\n",
       "       '6aac18ba35542f2a9fd6d91d7e202549.png',\n",
       "       '7adb7a9c863b8bdd842d14e1c484e77f.png',\n",
       "       '0d20e86dad11f0bd9ccb6ffa014277f2.png',\n",
       "       'a470313562508266ecf17a4a5410fc6f.png',\n",
       "       'add77a1c9b7aa95a65542a01a209b7d2.png',\n",
       "       'e44cb44a7cf02f5c4f9f4c2f0f62f3ce.png',\n",
       "       '2d68cfb6b98a0aba7781e10d8264a3be.png',\n",
       "       '1c7d4d157e04b416d2d2924abfa08dc8.png',\n",
       "       '4cfce60b3c6e30635dbcbae55d9e5f01.png',\n",
       "       '4ec11a3e90f698245558752bba778c6e.png',\n",
       "       '152681a0017a5fded699c43cd6df97d1.png',\n",
       "       '0f68b5903eb36be82019631a333c9141.png',\n",
       "       'b47c970b9a25c103951ab48c55727ecc.png',\n",
       "       'ca8d2d96f0802516c94fa60dbae9e0eb.png',\n",
       "       'd38f15e7ee1656b427fc23cea9944691.png',\n",
       "       '0c0b302cb4a6f593cbb34b803b6ad71f.png',\n",
       "       '0e429185c58e9dfcaa3cfee8bbf1e830.png',\n",
       "       '6b3eb059fd9044414327cfe2db54b1a0.png',\n",
       "       '2a9b0535dc7182014752ec66fa65a2d0.png',\n",
       "       '04f3c84abe8419ead6de6515a2dc05de.png',\n",
       "       '6fbecfdaecf314fc8417362440c1867c.png',\n",
       "       'cd9b2df963652cea69a16b7e368cd7f1.png',\n",
       "       'c834e3170c81cebd468accb10ef07c1f.png',\n",
       "       '0a44837310aaf998acb05d0a651891e3.png',\n",
       "       '3ddf7736a773413d96643ce52c9a3c52.png',\n",
       "       '4ec45a6cecd8a24a5ec3310ce19b2d73.png',\n",
       "       '4bc7e3fe32e048305059534f32b924e2.png',\n",
       "       '6b81b4828b7bd9fd450258cc233ec70f.png',\n",
       "       '05d0476ae1a480e1a79e7cfae6ab3a5d.png',\n",
       "       'c4249fa108dfc8cc6617d0c03adaa9e4.png',\n",
       "       '1a17a41f584faa97befe50fdf72ba13d.png',\n",
       "       '3c4141c3fb510f0077807d94aa1a7e7b.png',\n",
       "       '06c190007f980b9d58a25a6db433327a.png',\n",
       "       'a464044a6cdff5cff44d099a99138ae2.png',\n",
       "       '5fcbff0dea2096296955f621ea2ed24b.png',\n",
       "       '1c7fbbb2b22971f0e6afdc9a0bc6bd46.png',\n",
       "       '3cb69784be21bce972537f1ebf0bb231.png',\n",
       "       '1ebbb5a00989068e50000aaa5d5dd5fc.png',\n",
       "       '3c61021caf93f68df55053972dce9394.png',\n",
       "       'c9df6c726d44834138a89684b2454dbb.png',\n",
       "       'd87fb93838434f8a1d668c0ed1bd8824.png',\n",
       "       '2eb515a0b14569b9c98f3cb7e0a62686.png',\n",
       "       '03eaa5163b84efa2b14c5d1431107200.png',\n",
       "       '6a26bca72eec83c3eb6290b471f76d72.png',\n",
       "       '3caa8e3dbe2f3572dfb66cfea95a729e.png',\n",
       "       '3b915720d58708f83561ade96107afa6.png',\n",
       "       'b42396107373446a2ab013cd61460b04.png',\n",
       "       '3c8c56e88b6aebb17800b9b27ea69969.png',\n",
       "       '3deb3cb2c8f1d3179dcb8ba43f9df7db.png',\n",
       "       '5a33babc5fab4dfb80959bfa892f18b0.png',\n",
       "       '6c4886c8ae23964b735ceed09e39bb30.png',\n",
       "       '5f08f620b624894e6c48f938343861a1.png',\n",
       "       '05d9c3c9bb54b8beca02ac89553bd84a.png',\n",
       "       '1ad910c71cc71a500e14b68dd16ac00b.png',\n",
       "       'ac821291d07a9c317f2dbf5e424cb8cb.png',\n",
       "       '5c93378bb928ce87fe7613059848242d.png',\n",
       "       '3ce72f69f1d70fa6f4251bf620c971af.png',\n",
       "       '3a7f78afa41fc79c60edffe1e1853f06.png',\n",
       "       '2c9efd7686482f3fd1687c8bed7e1b79.png',\n",
       "       '4b27ce4bea6a576d928932f005e954cb.png',\n",
       "       'd3178109fc141fbce7c7d2c97a9e03d8.png',\n",
       "       '6e34a1f2e448d880b2d98fe7ecf2c9ec.png',\n",
       "       '0908dafde12041540b70d688315df6e9.png',\n",
       "       '6bd4cd258cf603a3563805dc08a61717.png',\n",
       "       '4c7cffa0740d46811611e1a1fb4a33dd.png',\n",
       "       '1f43b94aa7b64711ad40157a3b257a70.png',\n",
       "       '6e91f788bd7f03474fb5f7174ee3b4fe.png',\n",
       "       '4f70340d893fc1e430ea13c452516689.png',\n",
       "       '4a3c87626d683848038323bf2c172401.png',\n",
       "       '3bcf7a0569ed8c3e8ad875f95bfb9375.png',\n",
       "       '4afe9d1ba7e6165ec16f65480716f637.png',\n",
       "       '2abc3819330e8b6613596f603122f3f7.png',\n",
       "       '1d8ce4e2c38d5802f756fe1a295bafa7.png',\n",
       "       '1a9a240d5c549ea5f6a464f076d5f783.png',\n",
       "       '3c4c56e17f62c51c30f128f4d754f001.png',\n",
       "       'ba88fff70edc152e7fd26df38f710f49.png',\n",
       "       '3a13e041e01f6567262b899b5f2c5b9c.png',\n",
       "       '1fcc8711337c90f6c3dcfd1a07ed8a13.png',\n",
       "       '0fbb5ba2d58fdf6c4f129a876c7c0004.png',\n",
       "       '6bf06a5c16a66398eb1fe02d74abcb30.png',\n",
       "       '6743af3f663bc4244b0f80b93541f542.png',\n",
       "       '1ab03120be532e415d61102e9ce30edf.png',\n",
       "       '2d434fc0c848798124376812abd327c8.png',\n",
       "       'cdce0701fa96db632af5facf074fe654.png',\n",
       "       '04b9dd7d5e3d24e0bca41ff9173626f1.png',\n",
       "       '0bcebfad9022dc4e9b606d3bbe84483d.png',\n",
       "       '6a7ff6587ff54c98c4ae74e6919ba872.png',\n",
       "       '6d11eb7dfe32df914c7503fe6a41ce84.png',\n",
       "       '7a91051d33e92b96c9dd507eec4b8ca8.png',\n",
       "       '5a11ffa108c7b9400c1fc8b53242fe75.png',\n",
       "       '6b48a8f1eae42db610c632b7169b78a9.png',\n",
       "       '62181550c772f3277ca96e0516b45d9b.png',\n",
       "       'ac7136dac7ab3dfa07d4a6c5038f450d.png',\n",
       "       '4abc145709ef0a49fa40ab296d378977.png',\n",
       "       '3c0045d491e0b59c5727c5d59feb1064.png',\n",
       "       '6cf810778c1e0fd4d95cc5009d44f165.png',\n",
       "       '0bf69d1b9460a9ad974b9a7c57f31632.png',\n",
       "       'b0a2e857fb69d84cc86e16e53c2feda3.png',\n",
       "       '919881fcd4d0a4117719449a60788f18.png',\n",
       "       'cd23dec47118e009aa9ae014362be38f.png',\n",
       "       'bfd1934c21fe48a0e3ad8e9695473cb8.png',\n",
       "       '0f510d92d43b1b2f9e9ed73957cf87e8.png',\n",
       "       '5a3c4533dd0b0ae4b4dd7149fa2bf487.png',\n",
       "       '871d73986285b6092cc16cfe7ab4b7ed.png',\n",
       "       '4fedf7612fb6ea67a4a9b963396e3b2a.png',\n",
       "       '0e2f6aab6ade6e5b130064d6c2d79383.png',\n",
       "       '02efa34b5034a41fb487ef38f07c321c.png',\n",
       "       'a3902e315de94e425dfd3bd109dc88de.png',\n",
       "       'af8c8581458892ce989aaa67e65904c5.png',\n",
       "       '6b81062ee28cdb5ab08d5e86d4d20049.png',\n",
       "       '5a2c17fb2299adfb232fb5c99b48afbc.png',\n",
       "       '2c0402a97ce575430dd6ffaf023ee585.png',\n",
       "       '8569531f0cfe6fed6f0911100c8c8d56.png',\n",
       "       '5a5c1f2e74a9eb081113929fbac9e77f.png',\n",
       "       '4c62ff1dbfb7828b2432194ff0ce0b5a.png',\n",
       "       '07af4ffd4a3e7a37903b9a22affccfed.png',\n",
       "       '6870d1aa15aa6be76dac6931583bf998.png',\n",
       "       '2680cb774242658dd33dd7dccccf6308.png',\n",
       "       '5d7faad1f366ab67568d185a0dce8173.png',\n",
       "       '4d493266de1cefe31575bfa475839089.png',\n",
       "       '2a4df7ec33239ffbaf4f5b9a0b190ae3.png',\n",
       "       '6e5d61030136ad5ca49d667fa570e4fc.png',\n",
       "       '6dcfaabd782bd7dd76eb4e4acb634789.png',\n",
       "       '3cc9528009f979daf3681b63a47a85af.png',\n",
       "       'cb73316904b4dfa07e2f0066fdc91242.png',\n",
       "       'd12f8acae725c66b00c31c3c96978e18.png',\n",
       "       '5c59a6e897670b94b1d68faa23a8946a.png',\n",
       "       '4c10db55f29f713289bc4c52cc4e71f0.png',\n",
       "       '4ccb5bc9d04a0410769470637b9a8e6a.png',\n",
       "       '3a4890683ea8f09afd9a80f48686cef5.png',\n",
       "       'bc6699010f8031e38623087db86466b1.png',\n",
       "       '6b2a57077c246f5a96a9009dc9f86ab6.png',\n",
       "       'f95d94a3a6384059a64725f89677e885.png',\n",
       "       'd9b9f5db7d29a3855cceef574145b595.png',\n",
       "       '0e12b739725814023bf25b7c91780852.png',\n",
       "       'b2474c062971986f588459818c212a8c.png',\n",
       "       '2a9f3a3fec8d52af7cc2ceed1ca12c13.png',\n",
       "       '4db6603b65d03796d5ecde2a6a421f03.png',\n",
       "       '6cdc55e67e54628c981eba6be967f7e1.png',\n",
       "       '7afcfe686667df48e62e685663460846.png',\n",
       "       '1bbe5358b6911fd52ac6383a652292ee.png',\n",
       "       'b15e0636218f1748f362cb65648a2408.png',\n",
       "       'ce4df5feb17e4951e1151a4ddf38b5e5.png',\n",
       "       'bdaed1accdd28cf71be52229b654c0fd.png',\n",
       "       '3cfc9cc91c80cae3140e5c833ba03b6a.png',\n",
       "       '8403960a267cea6cec8473736454c4bd.png',\n",
       "       '3e2675aef79e152afb49b648c2892d8a.png',\n",
       "       '5b166a348430539eb9c9be6ccce20a0e.png',\n",
       "       '7a58f23c07cf45256f308b5723af9f7c.png',\n",
       "       '0c6ac3ce5ed62c27b99394e652c52ae0.png',\n",
       "       '0a8335445b959de1c8fac4360906d3b4.png',\n",
       "       'cebf26e8911e2a38c273b1c015e61fcd.png',\n",
       "       'cccbca215f38e9a03c46f73265bba889.png',\n",
       "       '6b5559315697d36ff30a772b77b1ef9c.png',\n",
       "       '2d7530637fce7dc799e344434cf2c1c1.png',\n",
       "       'd0c156d5cf865a9e43e20c1798093bf0.png',\n",
       "       '5da397367179d6cceb846dfbce4f99a5.png',\n",
       "       'a0ed4e883bd44522343ad589aadce538.png',\n",
       "       '0ce49d459921e224bba36d3b41c3c2da.png',\n",
       "       '3f730117c58c8e112a7b33f1331e9ef0.png',\n",
       "       'bc04da26ab41ce92565dd3c686dae6c8.png',\n",
       "       '5a0a481b717fd0e0f199589da2eb3883.png',\n",
       "       '02f58a2257e7aa18d2bb61deae00e6b5.png',\n",
       "       '2d2109bc991437a2e9b0edb0efdd1434.png',\n",
       "       '6ad2ca11ceb5ff971d4ae66220d71040.png'], dtype='<U36')"
      ]
     },
     "execution_count": 11,
     "metadata": {},
     "output_type": "execute_result"
    }
   ],
   "source": [
    "x_test"
   ]
  },
  {
   "cell_type": "code",
   "execution_count": 9,
   "metadata": {},
   "outputs": [
    {
     "data": {
      "text/plain": [
       "[0,\n",
       " 0,\n",
       " 1,\n",
       " 0,\n",
       " 0,\n",
       " 0,\n",
       " 0,\n",
       " 0,\n",
       " 0,\n",
       " 1,\n",
       " 0,\n",
       " 0,\n",
       " 0,\n",
       " 0,\n",
       " 1,\n",
       " 1,\n",
       " 0,\n",
       " 0,\n",
       " 0,\n",
       " 0,\n",
       " 1,\n",
       " 1,\n",
       " 0,\n",
       " 0,\n",
       " 1,\n",
       " 0,\n",
       " 0,\n",
       " 0,\n",
       " 1,\n",
       " 1,\n",
       " 0,\n",
       " 0,\n",
       " 1,\n",
       " 0,\n",
       " 0,\n",
       " 0,\n",
       " 0,\n",
       " 0,\n",
       " 0,\n",
       " 0,\n",
       " 1,\n",
       " 1,\n",
       " 1,\n",
       " 0,\n",
       " 1,\n",
       " 0,\n",
       " 0,\n",
       " 0,\n",
       " 0,\n",
       " 0,\n",
       " 1,\n",
       " 1,\n",
       " 1,\n",
       " 0,\n",
       " 1,\n",
       " 1,\n",
       " 1,\n",
       " 1,\n",
       " 0,\n",
       " 0,\n",
       " 0,\n",
       " 1,\n",
       " 0,\n",
       " 1,\n",
       " 0,\n",
       " 0,\n",
       " 1,\n",
       " 1,\n",
       " 0,\n",
       " 0,\n",
       " 0,\n",
       " 0,\n",
       " 0,\n",
       " 0,\n",
       " 0,\n",
       " 0,\n",
       " 1,\n",
       " 1,\n",
       " 0,\n",
       " 0,\n",
       " 1,\n",
       " 0,\n",
       " 0,\n",
       " 0,\n",
       " 0,\n",
       " 0,\n",
       " 0,\n",
       " 1,\n",
       " 0,\n",
       " 1,\n",
       " 0,\n",
       " 0,\n",
       " 0,\n",
       " 0,\n",
       " 0,\n",
       " 0,\n",
       " 1,\n",
       " 0,\n",
       " 0,\n",
       " 0,\n",
       " 1,\n",
       " 1,\n",
       " 0,\n",
       " 1,\n",
       " 0,\n",
       " 1,\n",
       " 1,\n",
       " 0,\n",
       " 0,\n",
       " 1,\n",
       " 0,\n",
       " 0,\n",
       " 1,\n",
       " 1,\n",
       " 0,\n",
       " 0,\n",
       " 0,\n",
       " 1,\n",
       " 1,\n",
       " 0,\n",
       " 0,\n",
       " 0,\n",
       " 0,\n",
       " 0,\n",
       " 0,\n",
       " 1,\n",
       " 0,\n",
       " 1,\n",
       " 0,\n",
       " 0,\n",
       " 0,\n",
       " 0,\n",
       " 0,\n",
       " 1,\n",
       " 1,\n",
       " 1,\n",
       " 0,\n",
       " 0,\n",
       " 0,\n",
       " 0,\n",
       " 1,\n",
       " 0,\n",
       " 1,\n",
       " 1,\n",
       " 1,\n",
       " 0,\n",
       " 0,\n",
       " 0,\n",
       " 0,\n",
       " 0,\n",
       " 0,\n",
       " 1,\n",
       " 1,\n",
       " 0,\n",
       " 0,\n",
       " 0,\n",
       " 0,\n",
       " 0,\n",
       " 0,\n",
       " 1,\n",
       " 0,\n",
       " 0,\n",
       " 0,\n",
       " 1,\n",
       " 0,\n",
       " 0,\n",
       " 0,\n",
       " 0,\n",
       " 0,\n",
       " 1,\n",
       " 1,\n",
       " 0,\n",
       " 0,\n",
       " 0,\n",
       " 0,\n",
       " 0,\n",
       " 1,\n",
       " 0,\n",
       " 0,\n",
       " 0,\n",
       " 0,\n",
       " 0,\n",
       " 0,\n",
       " 0,\n",
       " 1,\n",
       " 0,\n",
       " 0,\n",
       " 0,\n",
       " 0,\n",
       " 0,\n",
       " 1,\n",
       " 0,\n",
       " 1,\n",
       " 0,\n",
       " 0,\n",
       " 0,\n",
       " 0,\n",
       " 0,\n",
       " 0,\n",
       " 0,\n",
       " 0,\n",
       " 0,\n",
       " 0,\n",
       " 0,\n",
       " 0,\n",
       " 1,\n",
       " 0,\n",
       " 0,\n",
       " 0,\n",
       " 0,\n",
       " 1,\n",
       " 0,\n",
       " 0,\n",
       " 1,\n",
       " 0,\n",
       " 0,\n",
       " 0,\n",
       " 0,\n",
       " 0,\n",
       " 0,\n",
       " 0,\n",
       " 1,\n",
       " 1,\n",
       " 0,\n",
       " 0,\n",
       " 0,\n",
       " 0,\n",
       " 1,\n",
       " 1,\n",
       " 1,\n",
       " 1,\n",
       " 0,\n",
       " 0,\n",
       " 1,\n",
       " 0,\n",
       " 0,\n",
       " 0,\n",
       " 1,\n",
       " 1,\n",
       " 0,\n",
       " 0,\n",
       " 0,\n",
       " 1,\n",
       " 0,\n",
       " 0,\n",
       " 0,\n",
       " 1,\n",
       " 1,\n",
       " 0,\n",
       " 0,\n",
       " 0,\n",
       " 0,\n",
       " 0,\n",
       " 0,\n",
       " 1,\n",
       " 1,\n",
       " 0,\n",
       " 0,\n",
       " 0,\n",
       " 0,\n",
       " 1,\n",
       " 0,\n",
       " 1,\n",
       " 1,\n",
       " 0,\n",
       " 1,\n",
       " 0,\n",
       " 0,\n",
       " 0,\n",
       " 0,\n",
       " 0,\n",
       " 1,\n",
       " 1,\n",
       " 1,\n",
       " 0,\n",
       " 1,\n",
       " 0,\n",
       " 0,\n",
       " 0,\n",
       " 0,\n",
       " 0,\n",
       " 1,\n",
       " 1,\n",
       " 0,\n",
       " 0,\n",
       " 1,\n",
       " 0,\n",
       " 1,\n",
       " 0,\n",
       " 0,\n",
       " 1,\n",
       " 0,\n",
       " 0,\n",
       " 0,\n",
       " 0]"
      ]
     },
     "execution_count": 9,
     "metadata": {},
     "output_type": "execute_result"
    }
   ],
   "source": [
    "y_test"
   ]
  },
  {
   "cell_type": "code",
   "execution_count": 12,
   "metadata": {},
   "outputs": [],
   "source": [
    "x_test_pristine=x_test[y_test==0]\n",
    "x_test_fake=x_test[y_test==1]"
   ]
  },
  {
   "cell_type": "code",
   "execution_count": 14,
   "metadata": {},
   "outputs": [
    {
     "data": {
      "text/plain": [
       "90"
      ]
     },
     "execution_count": 14,
     "metadata": {},
     "output_type": "execute_result"
    }
   ],
   "source": [
    "len(x_test_fake)"
   ]
  },
  {
   "cell_type": "code",
   "execution_count": 8,
   "metadata": {},
   "outputs": [],
   "source": [
    "x_test_fake = np.load('k64 binary 25percent stride8/sample_fakes_np_test.npy')"
   ]
  },
  {
   "cell_type": "code",
   "execution_count": 9,
   "metadata": {},
   "outputs": [
    {
     "data": {
      "text/plain": [
       "51109"
      ]
     },
     "execution_count": 9,
     "metadata": {},
     "output_type": "execute_result"
    }
   ],
   "source": [
    "len(x_test_fake)"
   ]
  },
  {
   "cell_type": "code",
   "execution_count": 10,
   "metadata": {},
   "outputs": [],
   "source": [
    "with open('data/x_test.pickle', 'rb') as f:\n",
    "    x_test=np.array(pickle.load(f))\n",
    "\n",
    "with open('data/y_test.pickle', 'rb') as f:\n",
    "    y_test=np.array(pickle.load(f))"
   ]
  },
  {
   "cell_type": "code",
   "execution_count": 11,
   "metadata": {},
   "outputs": [],
   "source": [
    "x_test_pristine_names=x_test[y_test==0]"
   ]
  },
  {
   "cell_type": "code",
   "execution_count": 20,
   "metadata": {},
   "outputs": [],
   "source": [
    "def sample_random(img, num_samples, stride=8):\n",
    "    kernel_size=64\n",
    "    \n",
    "    x_start=0\n",
    "    y_start=0\n",
    "    samples=[]\n",
    "    \n",
    "    for y_start in range(0, img.shape[0] - kernel_size + 1, stride):\n",
    "        for x_start in range(0, img.shape[1] - kernel_size + 1, stride):\n",
    "\n",
    "            #c_255 = count_255(mask[y_start:y_start + kernel_size, x_start:x_start + kernel_size])\n",
    "\n",
    "            #if (c_255 > threshold) and (kernel_size * kernel_size - c_255 > threshold):\n",
    "            samples.append(img[y_start:y_start + kernel_size, x_start:x_start + kernel_size, :3])\n",
    "\n",
    "    \n",
    "    indices=np.random.randint(0, len(samples), min(len(samples), num_samples))\n",
    "    \n",
    "    sampled=[]\n",
    "    for i in indices:\n",
    "        sampled.append(samples[i])\n",
    "    \n",
    "    return sampled"
   ]
  },
  {
   "cell_type": "code",
   "execution_count": 13,
   "metadata": {},
   "outputs": [
    {
     "data": {
      "text/plain": [
       "205"
      ]
     },
     "execution_count": 13,
     "metadata": {},
     "output_type": "execute_result"
    }
   ],
   "source": [
    "len(x_test_pristine_names)"
   ]
  },
  {
   "cell_type": "code",
   "execution_count": 14,
   "metadata": {},
   "outputs": [
    {
     "data": {
      "text/plain": [
       "249.31219512195122"
      ]
     },
     "execution_count": 14,
     "metadata": {},
     "output_type": "execute_result"
    }
   ],
   "source": [
    "len(x_test_fake)/len(x_test_pristine_names)"
   ]
  },
  {
   "cell_type": "markdown",
   "metadata": {},
   "source": [
    "249 samples per pristine image"
   ]
  },
  {
   "cell_type": "code",
   "execution_count": 15,
   "metadata": {},
   "outputs": [
    {
     "data": {
      "text/plain": [
       "51045"
      ]
     },
     "execution_count": 15,
     "metadata": {},
     "output_type": "execute_result"
    }
   ],
   "source": [
    "249*205"
   ]
  },
  {
   "cell_type": "code",
   "execution_count": 16,
   "metadata": {},
   "outputs": [],
   "source": [
    "fake_path = 'dataset-dist/phase-01/training/fake/'\n",
    "pristine_path = 'dataset-dist/phase-01/training/pristine/'\n",
    "mask_path = fake_path + 'masks/'"
   ]
  },
  {
   "cell_type": "code",
   "execution_count": 18,
   "metadata": {},
   "outputs": [],
   "source": [
    "x_test_pristine = []\n",
    "for img_name in x_test_pristine_names:\n",
    "    if os.path.isfile(pristine_path + img_name):\n",
    "        pristine_img = imread(pristine_path + img_name)\n",
    "\n",
    "\n",
    "        x_test_pristine.append(pristine_img[:, :, :3])"
   ]
  },
  {
   "cell_type": "code",
   "execution_count": 21,
   "metadata": {},
   "outputs": [
    {
     "name": "stdout",
     "output_type": "stream",
     "text": [
      "51045\n"
     ]
    }
   ],
   "source": [
    "samples_pristine_binary=np.ndarray(shape=(51045, 64, 64, 3), dtype=np.dtype('uint8'))\n",
    "\n",
    "i=0\n",
    "for pristine_img in x_test_pristine:\n",
    "    \n",
    "    samples=sample_random(pristine_img, 249)\n",
    "    for j, sample in enumerate(samples):\n",
    "        samples_pristine_binary[i, :, :, :]=sample\n",
    "        i+=1\n",
    "print(i)"
   ]
  },
  {
   "cell_type": "code",
   "execution_count": 22,
   "metadata": {},
   "outputs": [],
   "source": [
    "np.save('samples_pristine_test.npy', samples_pristine_binary)"
   ]
  },
  {
   "cell_type": "code",
   "execution_count": 37,
   "metadata": {},
   "outputs": [
    {
     "data": {
      "text/plain": [
       "<matplotlib.image.AxesImage at 0x208a2cdbfd0>"
      ]
     },
     "execution_count": 37,
     "metadata": {},
     "output_type": "execute_result"
    },
    {
     "data": {
      "image/png": "[encoded data removed]",
      "text/plain": [
       "<Figure size 432x288 with 1 Axes>"
      ]
     },
     "metadata": {
      "needs_background": "light"
     },
     "output_type": "display_data"
    }
   ],
   "source": [
    "plt.imshow(samples_pristine_binary[13])"
   ]
  },
  {
   "cell_type": "code",
   "execution_count": 39,
   "metadata": {},
   "outputs": [
    {
     "data": {
      "text/plain": [
       "(51109, 64, 64, 3)"
      ]
     },
     "execution_count": 39,
     "metadata": {},
     "output_type": "execute_result"
    }
   ],
   "source": [
    "x_test_fake.shape"
   ]
  },
  {
   "cell_type": "code",
   "execution_count": 40,
   "metadata": {},
   "outputs": [],
   "source": [
    "x_test=np.concatenate((x_test_fake, samples_pristine_binary), axis=0)"
   ]
  },
  {
   "cell_type": "code",
   "execution_count": 41,
   "metadata": {},
   "outputs": [
    {
     "data": {
      "text/plain": [
       "(102154, 64, 64, 3)"
      ]
     },
     "execution_count": 41,
     "metadata": {},
     "output_type": "execute_result"
    }
   ],
   "source": [
    "x_test.shape"
   ]
  },
  {
   "cell_type": "code",
   "execution_count": 42,
   "metadata": {},
   "outputs": [],
   "source": [
    "np.save('x_test.npy', x_test)"
   ]
  },
  {
   "cell_type": "code",
   "execution_count": 43,
   "metadata": {},
   "outputs": [],
   "source": [
    "y_test=np.array([1]*len(x_test_fake)+[0]*len(samples_pristine_binary))"
   ]
  },
  {
   "cell_type": "code",
   "execution_count": 44,
   "metadata": {},
   "outputs": [],
   "source": [
    "np.save('y_test.npy', y_test)"
   ]
  }
 ],
 "metadata": {
  "kernelspec": {
   "display_name": "Python 3",
   "language": "python",
   "name": "python3"
  },
  "language_info": {
   "codemirror_mode": {
    "name": "ipython",
    "version": 3
   },
   "file_extension": ".py",
   "mimetype": "text/x-python",
   "name": "python",
   "nbconvert_exporter": "python",
   "pygments_lexer": "ipython3",
   "version": "3.6.7"
  }
 },
 "nbformat": 4,
 "nbformat_minor": 2
}
